{
 "cells": [
  {
   "cell_type": "code",
   "execution_count": 3,
   "id": "f90f058d-f347-4afe-9dd6-187dca2dab27",
   "metadata": {},
   "outputs": [
    {
     "name": "stdout",
     "output_type": "stream",
     "text": [
      "[1, 3, 5, 7, 9, 11, 13, 15, 17, 19, 21, 23]\n"
     ]
    }
   ],
   "source": [
    "# question 1 \n",
    "def func(n):\n",
    "    list1=[]\n",
    "    for i in range(n):\n",
    "        if i%2!=0:\n",
    "            list1.append(i)\n",
    "        else:\n",
    "            continue\n",
    "    return list1\n",
    "print(func(25))\n",
    "            \n"
   ]
  },
  {
   "cell_type": "code",
   "execution_count": 6,
   "id": "cf15fadf-0906-4b16-9718-1b2548d65faa",
   "metadata": {},
   "outputs": [
    {
     "data": {
      "text/plain": [
       "(1, 2, 3, 45, 'sahil', 5)"
      ]
     },
     "execution_count": 6,
     "metadata": {},
     "output_type": "execute_result"
    }
   ],
   "source": [
    "#question 2 part 1\n",
    "def func(*args):\n",
    "    return args\n",
    "func(1,2,3,45,\"sahil\",5)"
   ]
  },
  {
   "cell_type": "code",
   "execution_count": 8,
   "id": "b17ec50b-fbd4-41a0-829f-44f18b1439b7",
   "metadata": {},
   "outputs": [
    {
     "data": {
      "text/plain": [
       "{'a': 1, 'b': 2, 'c': 3, 'd': 45, 'e': 'sahil', 'f': 5}"
      ]
     },
     "execution_count": 8,
     "metadata": {},
     "output_type": "execute_result"
    }
   ],
   "source": [
    "#question 2 part 2\n",
    "def func(**kwargs):\n",
    "    return kwargs\n",
    "func(a=1,b=2,c=3,d=45,e=\"sahil\",f=5)"
   ]
  },
  {
   "cell_type": "code",
   "execution_count": 10,
   "id": "9c42a06c-24c4-4fdc-87a4-96668fc6108f",
   "metadata": {},
   "outputs": [
    {
     "name": "stdout",
     "output_type": "stream",
     "text": [
      "2\n",
      "4\n",
      "6\n",
      "8\n",
      "10\n"
     ]
    }
   ],
   "source": [
    "#question 3\n",
    "list1=[2, 4, 6, 8, 10, 12, 14, 16,18,20]\n",
    "i=0\n",
    "while i<5:\n",
    "    print(list1[i])\n",
    "    i=i+1"
   ]
  },
  {
   "cell_type": "code",
   "execution_count": 11,
   "id": "4a64595c-342c-4abd-884b-dc3df95c172e",
   "metadata": {},
   "outputs": [
    {
     "name": "stdout",
     "output_type": "stream",
     "text": [
      "0\n",
      "1\n",
      "2\n",
      "4\n",
      "8\n",
      "16\n",
      "32\n",
      "64\n",
      "128\n",
      "256\n",
      "512\n",
      "1024\n",
      "2048\n",
      "4096\n",
      "8192\n",
      "16384\n",
      "32768\n",
      "65536\n",
      "131072\n",
      "262144\n",
      "524288\n",
      "1048576\n",
      "2097152\n",
      "4194304\n",
      "8388608\n"
     ]
    }
   ],
   "source": [
    "#question 4\n",
    "def genfn(n):\n",
    "    a=0\n",
    "    b=1\n",
    "    for i in range(n):\n",
    "        yield a\n",
    "        a=b\n",
    "        b=a+b\n",
    "for i in genfn(25):\n",
    "    print(i)\n"
   ]
  },
  {
   "cell_type": "code",
   "execution_count": 17,
   "id": "9d0267ee-06ad-4a65-9b16-3fef0363ca44",
   "metadata": {},
   "outputs": [],
   "source": [
    "def prime_num(n):\n",
    "    for i in range(2,n):\n",
    "        count=0\n",
    "        for j in range(1,n):\n",
    "            if i%j==0:\n",
    "                count+=1\n",
    "            else:\n",
    "                continue\n",
    "                if count==2:\n",
    "                    yield i\n",
    "for i in prime_num(1000):\n",
    "    print(i)"
   ]
  },
  {
   "cell_type": "code",
   "execution_count": null,
   "id": "ddedc6bf-0a46-4402-b9c5-4b5cf70ee505",
   "metadata": {},
   "outputs": [],
   "source": []
  }
 ],
 "metadata": {
  "kernelspec": {
   "display_name": "Python 3 (ipykernel)",
   "language": "python",
   "name": "python3"
  },
  "language_info": {
   "codemirror_mode": {
    "name": "ipython",
    "version": 3
   },
   "file_extension": ".py",
   "mimetype": "text/x-python",
   "name": "python",
   "nbconvert_exporter": "python",
   "pygments_lexer": "ipython3",
   "version": "3.10.8"
  }
 },
 "nbformat": 4,
 "nbformat_minor": 5
}
