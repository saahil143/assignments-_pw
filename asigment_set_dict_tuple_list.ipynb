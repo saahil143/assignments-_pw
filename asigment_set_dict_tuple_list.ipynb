{
 "cells": [
  {
   "cell_type": "markdown",
   "id": "eadbbbfd-2f77-4003-823a-d459f5e0a021",
   "metadata": {},
   "source": [
    "#question 1\n"
   ]
  },
  {
   "cell_type": "code",
   "execution_count": 3,
   "id": "f8cc0088-1ad4-4422-bf6f-89a930f1e648",
   "metadata": {},
   "outputs": [],
   "source": [
    "#A tuple is a collection which is ordered and unchangeable.\n",
    "\n",
    "#Tuples are written with round brackets.\n",
    "\n",
    "\n",
    "#tuples are immutable.\n"
   ]
  },
  {
   "cell_type": "markdown",
   "id": "4b4f2e6a-bd23-4fa5-b6b0-8f6ed84f0a3f",
   "metadata": {},
   "source": [
    "#question 2"
   ]
  },
  {
   "cell_type": "code",
   "execution_count": 11,
   "id": "84c19dcd-3e5e-43ca-8ed2-4284f9977e3a",
   "metadata": {},
   "outputs": [
    {
     "name": "stdout",
     "output_type": "stream",
     "text": [
      "3\n",
      "5\n"
     ]
    }
   ],
   "source": [
    "#Python has two built-in methods that you can use on tuples.\n",
    "\n",
    "#count()\tReturns the number of times a specified value occurs in a tuple\n",
    "#index()\tSearches the tuple for a specified value and returns the position of where it was found\n",
    "a=(1,2,3,4,5,6,2,2,)\n",
    "print(a.count(2))\n",
    "print(a.index(6))\n"
   ]
  },
  {
   "cell_type": "markdown",
   "id": "b9b3ab11-89ae-4940-836f-97f73436217d",
   "metadata": {},
   "source": [
    "#question3"
   ]
  },
  {
   "cell_type": "code",
   "execution_count": 14,
   "id": "050c88e3-2669-4bd5-b048-42bac3b94752",
   "metadata": {},
   "outputs": [
    {
     "data": {
      "text/plain": [
       "{1, 2, 3, 4}"
      ]
     },
     "execution_count": 14,
     "metadata": {},
     "output_type": "execute_result"
    }
   ],
   "source": [
    "# a set do not allow dubilcacy.\n",
    "List1 =[1, 1, 1, 2, 1, 3, 1, 4, 2, 1, 2, 2, 2, 3, 2, 4, 3, 1, 3, 2, 3, 3, 3, 4, 4, 1, 4, 2, 4, 3, 4, 4]\n",
    "a=set(List1)\n",
    "a"
   ]
  },
  {
   "cell_type": "markdown",
   "id": "76e8a7a0-6454-4eb6-bdf6-9b2da62d61d6",
   "metadata": {},
   "source": [
    "#question 5"
   ]
  },
  {
   "cell_type": "code",
   "execution_count": 16,
   "id": "ecbcf305-e268-4cf5-8ce4-a7ca3d52d6da",
   "metadata": {},
   "outputs": [
    {
     "data": {
      "text/plain": [
       "{'sahil': 22, 'sachin': 25, 'ashish': 23, 'bittu': 26, 'kunal': 23}"
      ]
     },
     "execution_count": 16,
     "metadata": {},
     "output_type": "execute_result"
    }
   ],
   "source": [
    "#dictionary is a built-in data type in python which stores dta in form of key and values.\n",
    "dict1={\"sahil\":22,\"sachin\":25,\"ashish\":23,\"bittu\":26,\"kunal\":23}\n",
    "dict1\n",
    "#its basically ordered now......"
   ]
  },
  {
   "cell_type": "markdown",
   "id": "f07fb34e-a236-45a8-9658-d6204547d20e",
   "metadata": {},
   "source": [
    "#question 6"
   ]
  },
  {
   "cell_type": "code",
   "execution_count": 23,
   "id": "6575b49e-bf68-49eb-a921-1f114782ecaa",
   "metadata": {},
   "outputs": [
    {
     "data": {
      "text/plain": [
       "{'sahil': 22, 'sachin': 25}"
      ]
     },
     "execution_count": 23,
     "metadata": {},
     "output_type": "execute_result"
    }
   ],
   "source": [
    "dict1={\"brothers1\":{\"sahil\":22,\"sachin\":25},\n",
    "       \"brothers2\":{\"ashish\":23,\"bittu\":26,\"kunal\":23}}\n",
    "dict1[\"brothers1\"]"
   ]
  },
  {
   "cell_type": "markdown",
   "id": "6a374361-8e06-4e42-9e10-0ece88966377",
   "metadata": {},
   "source": [
    "#question7"
   ]
  },
  {
   "cell_type": "code",
   "execution_count": 30,
   "id": "971b2427-28ce-412a-a090-c99ab8a3b069",
   "metadata": {},
   "outputs": [
    {
     "data": {
      "text/plain": [
       "dict_keys(['Sport', 'Teams'])"
      ]
     },
     "execution_count": 30,
     "metadata": {},
     "output_type": "execute_result"
    }
   ],
   "source": [
    "dict1 = {'Sport': 'Cricket' , 'Teams': ['India', 'Australia', 'England', 'South Africa', 'Sri Lanka', 'New Zealand']}\n",
    "dict1.keys()"
   ]
  },
  {
   "cell_type": "code",
   "execution_count": 32,
   "id": "45714fcf-47e0-4c33-9e54-57557dcf84db",
   "metadata": {},
   "outputs": [
    {
     "data": {
      "text/plain": [
       "dict_values(['Cricket', ['India', 'Australia', 'England', 'South Africa', 'Sri Lanka', 'New Zealand']])"
      ]
     },
     "execution_count": 32,
     "metadata": {},
     "output_type": "execute_result"
    }
   ],
   "source": [
    "dict1.values()"
   ]
  },
  {
   "cell_type": "code",
   "execution_count": 33,
   "id": "e7a8e852-4dc1-4be0-9996-f459c44c522e",
   "metadata": {},
   "outputs": [
    {
     "data": {
      "text/plain": [
       "dict_items([('Sport', 'Cricket'), ('Teams', ['India', 'Australia', 'England', 'South Africa', 'Sri Lanka', 'New Zealand'])])"
      ]
     },
     "execution_count": 33,
     "metadata": {},
     "output_type": "execute_result"
    }
   ],
   "source": [
    "dict1.items()"
   ]
  },
  {
   "cell_type": "code",
   "execution_count": null,
   "id": "596ad7d9-11f5-4839-ba68-06ef6e6bba75",
   "metadata": {},
   "outputs": [],
   "source": []
  }
 ],
 "metadata": {
  "kernelspec": {
   "display_name": "Python 3 (ipykernel)",
   "language": "python",
   "name": "python3"
  },
  "language_info": {
   "codemirror_mode": {
    "name": "ipython",
    "version": 3
   },
   "file_extension": ".py",
   "mimetype": "text/x-python",
   "name": "python",
   "nbconvert_exporter": "python",
   "pygments_lexer": "ipython3",
   "version": "3.10.8"
  }
 },
 "nbformat": 4,
 "nbformat_minor": 5
}
