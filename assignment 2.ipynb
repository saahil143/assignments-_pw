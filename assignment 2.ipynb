{
 "cells": [
  {
   "cell_type": "code",
   "execution_count": 1,
   "id": "4731b582-92a2-4522-a16c-e46544bd1114",
   "metadata": {},
   "outputs": [
    {
     "name": "stdin",
     "output_type": "stream",
     "text": [
      "enter the marks 69\n"
     ]
    },
    {
     "name": "stdout",
     "output_type": "stream",
     "text": [
      "your garde is C\n"
     ]
    }
   ],
   "source": [
    "# QUESTION 1\n",
    "marks=int(input(\"enter the marks\"))\n",
    "if marks>90:\n",
    "    print(\"your grade is A\")\n",
    "elif marks>=80 and marks<=90:\n",
    "    print(\"your grade is B\")\n",
    "elif marks>=60 and marks<80:\n",
    "    print(\"your garde is C\")\n",
    "else:\n",
    "    print(\"your grade is D\")"
   ]
  },
  {
   "cell_type": "code",
   "execution_count": 2,
   "id": "a88f0557-ce3e-426d-983e-84f38bd437c9",
   "metadata": {},
   "outputs": [
    {
     "name": "stdin",
     "output_type": "stream",
     "text": [
      "enter the price of bike 50875\n"
     ]
    },
    {
     "name": "stdout",
     "output_type": "stream",
     "text": [
      "you have to pay 10% tax\n"
     ]
    }
   ],
   "source": [
    "#QUESTION 2\n",
    "price=int(input(\"enter the price of bike\"))\n",
    "if price>100000:\n",
    "    print(\"you have to pay 15% tax\")\n",
    "elif price>50000 and marks<=100000:\n",
    "    print(\"you have to pay 10% tax\")\n",
    "else:\n",
    "    print(\"you have to pay 5% tax\")\n"
   ]
  },
  {
   "cell_type": "code",
   "execution_count": 4,
   "id": "6ff2a1c5-d7ae-4e6b-98a5-fef30bb6384c",
   "metadata": {},
   "outputs": [
    {
     "name": "stdin",
     "output_type": "stream",
     "text": [
      "enter the city name agra\n"
     ]
    },
    {
     "name": "stdout",
     "output_type": "stream",
     "text": [
      "tajmahal\n"
     ]
    }
   ],
   "source": [
    "#QUESTION 3\n",
    "city=input(\"enter the city name\")\n",
    "if city==\"delhi\":\n",
    "    print(\"red fort\")\n",
    "elif city==\"agra\":\n",
    "    print(\"tajmahal\")\n",
    "elif city==\"jaipur\":\n",
    "    print(\"jaymahal\")\n",
    "else:\n",
    "    print(\"you have wrong name of city\")\n"
   ]
  },
  {
   "cell_type": "code",
   "execution_count": 5,
   "id": "b20df9e3-749e-4679-9ef3-9ad7dbebeedb",
   "metadata": {},
   "outputs": [
    {
     "name": "stdin",
     "output_type": "stream",
     "text": [
      "enter the number 81\n"
     ]
    },
    {
     "name": "stdout",
     "output_type": "stream",
     "text": [
      "2\n"
     ]
    }
   ],
   "source": [
    "#QUESTION 4\n",
    "number=int(input(\"enter the number\"))\n",
    "no_of_times=0\n",
    "while number>10:\n",
    "    if number%3==0:\n",
    "        no_of_times+=1\n",
    "    number/=3\n",
    "print(no_of_times)   \n"
   ]
  },
  {
   "cell_type": "code",
   "execution_count": 6,
   "id": "e4f192bf-10c1-4248-8577-6cc64e387c6f",
   "metadata": {},
   "outputs": [
    {
     "name": "stdin",
     "output_type": "stream",
     "text": [
      "Enter number of rows :  6\n"
     ]
    },
    {
     "name": "stdout",
     "output_type": "stream",
     "text": [
      "* \n",
      "* * \n",
      "* * * \n",
      "* * * * \n",
      "* * * * * \n",
      "* * * * * * \n"
     ]
    }
   ],
   "source": [
    "#QUESTION 5 PART 1 \n",
    "n = int(input('Enter number of rows : ')) \n",
    "i = 1\n",
    "while i <=n :\n",
    "    j = 1\n",
    "    while j <=i:\n",
    "        print(\"*\", end = \" \")\n",
    "        j += 1\n",
    "    print(\"\\r\")\n",
    "    i += 1"
   ]
  },
  {
   "cell_type": "code",
   "execution_count": 7,
   "id": "23795e01-8667-4b69-b526-e84e198e4c8a",
   "metadata": {},
   "outputs": [
    {
     "name": "stdin",
     "output_type": "stream",
     "text": [
      "Enter number of rows :  6\n"
     ]
    },
    {
     "name": "stdout",
     "output_type": "stream",
     "text": [
      "            \n",
      "          \n",
      "        \n",
      "      \n",
      "    \n",
      "  \n"
     ]
    }
   ],
   "source": [
    "#QUESTION 5 PART 1 \n",
    "n = int(input('Enter number of rows : ')) \n",
    "i = 1\n",
    "while i <=n :\n",
    "    j = n\n",
    "    while j >=i:\n",
    "        print(\" \", end = \" \")\n",
    "        j -= 1\n",
    "    print(\"\\r\")\n",
    "    i += 1"
   ]
  },
  {
   "cell_type": "code",
   "execution_count": null,
   "id": "fe0434b2-92a1-4b39-b2d6-483a4fb05aa6",
   "metadata": {},
   "outputs": [],
   "source": []
  }
 ],
 "metadata": {
  "kernelspec": {
   "display_name": "Python 3 (ipykernel)",
   "language": "python",
   "name": "python3"
  },
  "language_info": {
   "codemirror_mode": {
    "name": "ipython",
    "version": 3
   },
   "file_extension": ".py",
   "mimetype": "text/x-python",
   "name": "python",
   "nbconvert_exporter": "python",
   "pygments_lexer": "ipython3",
   "version": "3.10.8"
  }
 },
 "nbformat": 4,
 "nbformat_minor": 5
}
